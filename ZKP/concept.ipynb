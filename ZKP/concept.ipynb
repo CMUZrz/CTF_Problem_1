{
 "cells": [
  {
   "cell_type": "code",
   "execution_count": null,
   "metadata": {},
   "outputs": [],
   "source": [
    "import random\n",
    "from hashlib import sha256\n",
    "\n",
    "# Set a large prime number and a generator\n",
    "p = 2**255 - 19  # A large prime number (Curve25519 prime)\n",
    "g = 2  # Generator\n",
    "\n",
    "# The secret flag (this would be known only to the prover)\n",
    "secret_flag = \"CTF{ZKP_M4st3r}\""
   ]
  },
  {
   "cell_type": "code",
   "execution_count": 2,
   "metadata": {},
   "outputs": [],
   "source": [
    "class ZKPChallenge:\n",
    "    def __init__(self, secret):\n",
    "        self.secret = int.from_bytes(secret.encode(), 'big')\n",
    "        self.y = pow(g, self.secret, p)  # Public key\n",
    "\n",
    "    def commit(self):\n",
    "        self.r = random.randint(1, p-1)\n",
    "        return pow(g, self.r, p)  # Commitment\n",
    "\n",
    "    def challenge(self):\n",
    "        return random.randint(0, 1)  # Random challenge bit\n",
    "\n",
    "    def respond(self, c, t):\n",
    "        if c == 0:\n",
    "            return self.r\n",
    "        else:\n",
    "            return (self.r - self.secret * t) % (p-1)\n",
    "\n",
    "    def verify(self, c, t, commitment, response):\n",
    "        if c == 0:\n",
    "            return commitment == pow(g, response, p)\n",
    "        else:\n",
    "            return commitment == (pow(g, response, p) * pow(self.y, t, p)) % p"
   ]
  },
  {
   "cell_type": "code",
   "execution_count": 3,
   "metadata": {},
   "outputs": [
    {
     "name": "stdout",
     "output_type": "stream",
     "text": [
      "\n",
      "Round 1:\n",
      "Commitment: 46384671204808001385022149349955407978189648440276081438935437454216034867308\n",
      "Challenge: 0\n",
      "Response: 44256309365872574327132915466900120961674004840148949836742666882342128516459\n",
      "Verification: Success\n",
      "\n",
      "Round 2:\n",
      "Commitment: 51224410373382353364518328563819304034478926030896834342968852074750670146105\n",
      "Challenge: 1\n",
      "Response: 42925294215668280277077988318709755056620529747907530044321431714359214073253\n",
      "Verification: Success\n",
      "\n",
      "Round 3:\n",
      "Commitment: 28048320759649949745667110348251730058819130869048008293931025590920554956776\n",
      "Challenge: 1\n",
      "Response: 31899853423193746777158420531730856941008507581959585418901280279558871816\n",
      "Verification: Success\n",
      "\n",
      "Round 4:\n",
      "Commitment: 22728053787277231336510600268807765948638229971080424097869935698302172059758\n",
      "Challenge: 1\n",
      "Response: 54918214342381113306618642839198958529155721256068519587863435313758927489704\n",
      "Verification: Success\n",
      "\n",
      "Round 5:\n",
      "Commitment: 17035971350168987559941202936982767444687391555800719691911804010456727270253\n",
      "Challenge: 1\n",
      "Response: 31856422100612775450690354154294372999770119858673163899722225124652982801991\n",
      "Verification: Success\n",
      "\n",
      "Round 6:\n",
      "Commitment: 27311946039810569476483082938970881728337112659478968332120762017095276172627\n",
      "Challenge: 1\n",
      "Response: 36415358234795327256470228269600549529434476277123031117358463817450793508490\n",
      "Verification: Success\n",
      "\n",
      "Round 7:\n",
      "Commitment: 30409242355553098820134346763285957319463533557952824514632505234765910378744\n",
      "Challenge: 1\n",
      "Response: 47202979616342177282576680407993908938847399521026634540183917137879691705499\n",
      "Verification: Success\n",
      "\n",
      "Round 8:\n",
      "Commitment: 19860189518862472798321764834920306237150263907396782981417623630802216321358\n",
      "Challenge: 1\n",
      "Response: 16691967517120912469008013037914572651527198361125494113557500770160735058347\n",
      "Verification: Success\n",
      "\n",
      "Round 9:\n",
      "Commitment: 28082514257700524978362145078498130644421559762318145825344076594568086835971\n",
      "Challenge: 1\n",
      "Response: 42133563182910335742627193937316955367145368485474327753854573461546486108483\n",
      "Verification: Success\n",
      "\n",
      "Round 10:\n",
      "Commitment: 30819108981847898228796157230886925006443592744038984783007396130795612766810\n",
      "Challenge: 1\n",
      "Response: 51951371818877746500569804517990174080887421695007980512318020386413464298484\n",
      "Verification: Success\n",
      "\n",
      "Overall result: Prover knows the secret\n"
     ]
    }
   ],
   "source": [
    "# Create the ZKP challenge\n",
    "zkp = ZKPChallenge(secret_flag)\n",
    "\n",
    "# Simulate multiple rounds of the protocol\n",
    "rounds = 10\n",
    "success = True\n",
    "\n",
    "for i in range(rounds):\n",
    "    print(f\"\\nRound {i+1}:\")\n",
    "    \n",
    "    # Prover commits\n",
    "    commitment = zkp.commit()\n",
    "    print(f\"Commitment: {commitment}\")\n",
    "\n",
    "    # Verifier challenges\n",
    "    c = zkp.challenge()\n",
    "    print(f\"Challenge: {c}\")\n",
    "\n",
    "    # Prover responds\n",
    "    t = random.randint(1, p-1)  # This would normally be chosen by the verifier\n",
    "    response = zkp.respond(c, t)\n",
    "    print(f\"Response: {response}\")\n",
    "\n",
    "    # Verifier verifies\n",
    "    result = zkp.verify(c, t, commitment, response)\n",
    "    print(f\"Verification: {'Success' if result else 'Failure'}\")\n",
    "    \n",
    "    success &= result\n",
    "\n",
    "print(f\"\\nOverall result: {'Prover knows the secret' if success else 'Proof failed'}\")"
   ]
  },
  {
   "cell_type": "code",
   "execution_count": null,
   "metadata": {},
   "outputs": [
    {
     "name": "stdout",
     "output_type": "stream",
     "text": [
      "commit,r:40407643617170990935184824237086482556194065058511254271855385734629916026043,5254108347621430948281865773240143224128478742956297974664900008554362915074\n"
     ]
    }
   ],
   "source": [
    "# Client commit\n",
    "import random \n",
    "def client_commit():\n",
    "    \n",
    "    p = 57896044618658097711785492504343953926634992332820282019728792003956564819949\n",
    "    g= 2\n",
    "    r = random.randint(1, p-1)\n",
    "    print(f'commit,r:{pow(g, r, p)},{r}')\n",
    "    return r\n",
    "\n",
    "secret_flag=\"CTF{ZKP_M4st3r}\"\n",
    "secret=secret_flag\n",
    "r=client_commit()"
   ]
  },
  {
   "cell_type": "code",
   "execution_count": null,
   "metadata": {},
   "outputs": [
    {
     "data": {
      "text/plain": [
       "['p:', '1']"
      ]
     },
     "execution_count": 17,
     "metadata": {},
     "output_type": "execute_result"
    }
   ],
   "source": []
  }
 ],
 "metadata": {
  "kernelspec": {
   "display_name": "Python 3",
   "language": "python",
   "name": "python3"
  },
  "language_info": {
   "codemirror_mode": {
    "name": "ipython",
    "version": 3
   },
   "file_extension": ".py",
   "mimetype": "text/x-python",
   "name": "python",
   "nbconvert_exporter": "python",
   "pygments_lexer": "ipython3",
   "version": "3.10.12"
  }
 },
 "nbformat": 4,
 "nbformat_minor": 2
}
